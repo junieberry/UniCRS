{
 "cells": [
  {
   "cell_type": "code",
   "execution_count": 1,
   "metadata": {},
   "outputs": [],
   "source": [
    "import json\n",
    "import os.path\n",
    "\n",
    "from tqdm import tqdm\n",
    "\n",
    "with open('entity2id.json', encoding='utf-8') as f:\n",
    "    entity2id = json.load(f)\n",
    "# movies = set()"
   ]
  },
  {
   "cell_type": "code",
   "execution_count": 7,
   "metadata": {},
   "outputs": [],
   "source": [
    "def remove(src_file, tgt_file):\n",
    "    with open(src_file, encoding='utf-8') as f:\n",
    "        for line in tqdm(f):\n",
    "            line = json.loads(line)\n",
    "            for i, message in enumerate(line['dialog_history']):\n",
    "                new_entity, new_entity_name = [], []\n",
    "                for j, entity in enumerate(message['entity']):\n",
    "                    # if entity in entity_sub:\n",
    "                    #     entity = entity_sub[entity]\n",
    "                    if entity in entity2id:\n",
    "                        new_entity.append(entity)\n",
    "                        new_entity_name.append(message['entity_name'][j])\n",
    "                        # id2name[entity2id[entity]] = message['entity_name'][j]\n",
    "                line['dialog_history'][i]['entity'] = new_entity\n",
    "                line['dialog_history'][i]['entity_name'] = new_entity_name\n",
    "\n",
    "                new_movie, new_movie_name = [], []\n",
    "                for j, movie in enumerate(message['movie']):\n",
    "                    if movie in entity2id:\n",
    "                        new_movie.append(movie)\n",
    "                        new_movie_name.append(message['movie_name'][j])\n",
    "                        # id2name[entity2id[movie]] = message['movie_name'][j]\n",
    "                        # movies.add(movie)\n",
    "                line['dialog_history'][i]['movie'] = new_movie\n",
    "                line['dialog_history'][i]['movie_name'] = new_movie_name\n",
    "\n",
    "                # line['messages'][i]['entity'] = [e for e in message['entity'] if e in entity2id]\n",
    "                # line['messages'][i]['movie'] = [e for e in message['movie'] if e in entity2id]\n",
    "\n",
    "            with open(tgt_file, 'a', encoding='utf-8') as tgt:\n",
    "                tgt.write(json.dumps(line, ensure_ascii=False) + '\\n')"
   ]
  },
  {
   "cell_type": "code",
   "execution_count": 8,
   "metadata": {},
   "outputs": [
    {
     "name": "stderr",
     "output_type": "stream",
     "text": [
      "21492it [00:02, 8732.92it/s]\n",
      "2351it [00:00, 8430.55it/s]\n",
      "2788it [00:00, 8638.26it/s]\n"
     ]
    }
   ],
   "source": [
    "src_files = ['processed_train.jsonl', 'processed_valid.jsonl', 'processed_test.jsonl']\n",
    "tgt_files = ['train_data_dbpedia.jsonl', 'valid_data_dbpedia.jsonl', 'test_data_dbpedia.jsonl']\n",
    "\n",
    "for src_file, tgt_file in zip(src_files, tgt_files):\n",
    "    if os.path.exists(tgt_file):\n",
    "        os.remove(tgt_file)\n",
    "    remove(src_file, tgt_file)"
   ]
  },
  {
   "cell_type": "code",
   "execution_count": null,
   "metadata": {},
   "outputs": [],
   "source": []
  }
 ],
 "metadata": {
  "kernelspec": {
   "display_name": "crs",
   "language": "python",
   "name": "python3"
  },
  "language_info": {
   "codemirror_mode": {
    "name": "ipython",
    "version": 3
   },
   "file_extension": ".py",
   "mimetype": "text/x-python",
   "name": "python",
   "nbconvert_exporter": "python",
   "pygments_lexer": "ipython3",
   "version": "3.9.19"
  }
 },
 "nbformat": 4,
 "nbformat_minor": 2
}
