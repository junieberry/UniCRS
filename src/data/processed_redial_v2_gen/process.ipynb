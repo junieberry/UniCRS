{
 "cells": [
  {
   "cell_type": "code",
   "execution_count": 1,
   "metadata": {},
   "outputs": [
    {
     "name": "stderr",
     "output_type": "stream",
     "text": [
      "/home/tako/anaconda3/envs/crs/lib/python3.9/site-packages/tqdm/auto.py:21: TqdmWarning: IProgress not found. Please update jupyter and ipywidgets. See https://ipywidgets.readthedocs.io/en/stable/user_install.html\n",
      "  from .autonotebook import tqdm as notebook_tqdm\n"
     ]
    }
   ],
   "source": [
    "import json\n",
    "import re\n",
    "\n",
    "import html\n",
    "from tqdm.auto import tqdm\n",
    "\n",
    "movie_pattern = re.compile(r'@\\d+')"
   ]
  },
  {
   "cell_type": "code",
   "execution_count": 2,
   "metadata": {},
   "outputs": [],
   "source": [
    "\n",
    "def process_utt(utt, movieid2name, replace_movieId):\n",
    "    def convert(match):\n",
    "        movieid = match.group(0)[1:]\n",
    "        if movieid in movieid2name:\n",
    "            movie_name = movieid2name[movieid]\n",
    "            movie_name = ' '.join(movie_name.split())\n",
    "            return movie_name\n",
    "        else:\n",
    "            return match.group(0)\n",
    "\n",
    "    if replace_movieId:\n",
    "        utt = re.sub(movie_pattern, convert, utt)\n",
    "    utt = ' '.join(utt.split())\n",
    "    utt = html.unescape(utt)\n",
    "\n",
    "    return utt"
   ]
  },
  {
   "cell_type": "code",
   "execution_count": 3,
   "metadata": {},
   "outputs": [],
   "source": [
    "with open('entity2id.json', 'r', encoding='utf-8') as f:\n",
    "    entity2id = json.load(f)\n",
    "item_set = set()"
   ]
  },
  {
   "cell_type": "code",
   "execution_count": 4,
   "metadata": {},
   "outputs": [],
   "source": [
    "\n",
    "def process(data_file, out_file, movie_set):\n",
    "    with open(data_file, 'r', encoding='utf-8') as fin, open(out_file, 'w', encoding='utf-8') as fout:\n",
    "        for line in tqdm(fin):\n",
    "            dialog = json.loads(line)\n",
    "            if len(dialog['dialog_history']) == 0:\n",
    "                continue\n",
    "\n",
    "            movieid2name = dialog['id2movies']\n",
    "            # user_id, resp_id = dialog['initiatorWorkerId'], dialog['respondentWorkerId']\n",
    "            context, resp = [], ''\n",
    "            entity_list = []\n",
    "            messages = dialog['dialog_history']\n",
    "            turn_i = 0\n",
    "            while turn_i < len(messages):\n",
    "                worker_id = messages[turn_i]['role']\n",
    "                utt_turn = []\n",
    "                entity_turn = []\n",
    "                movie_turn = []\n",
    "\n",
    "                turn_j = turn_i\n",
    "                while turn_j < len(messages) and messages[turn_j]['role'] == worker_id:\n",
    "                    utt = process_utt(messages[turn_j]['text'], movieid2name, replace_movieId=True)\n",
    "                    utt_turn.append(utt)\n",
    "\n",
    "                    entity_ids = [entity2id[entity] for entity in messages[turn_j]['entity'] if entity in entity2id]\n",
    "                    entity_turn.extend(entity_ids)\n",
    "\n",
    "                    movie_ids = [entity2id[movie] for movie in messages[turn_j]['movie'] if movie in entity2id]\n",
    "                    movie_turn.extend(movie_ids)\n",
    "\n",
    "                    turn_j += 1\n",
    "\n",
    "                utt = ' '.join(utt_turn)\n",
    "\n",
    "                # if worker_id == user_id:\n",
    "                #     context.append(utt)\n",
    "                #     entity_list.append(entity_turn + movie_turn)\n",
    "                # else:\n",
    "                resp = utt\n",
    "\n",
    "                context_entity_list = [entity for entity_l in entity_list for entity in entity_l]\n",
    "                context_entity_list_extend = []\n",
    "                # entity_links = [id2entity[id] for id in context_entity_list if id in id2entity]\n",
    "                # for entity in entity_links:\n",
    "                #     if entity in node2entity:\n",
    "                #         for e in node2entity[entity]['entity']:\n",
    "                #             if e in entity2id:\n",
    "                #                 context_entity_list_extend.append(entity2id[e])\n",
    "                context_entity_list_extend += context_entity_list\n",
    "                context_entity_list_extend = list(set(context_entity_list_extend))\n",
    "\n",
    "                if len(context) == 0:\n",
    "                    context.append('')\n",
    "                turn = {\n",
    "                    'context': context,\n",
    "                    'resp': resp,\n",
    "                    'rec': list(set(movie_turn + entity_turn)),\n",
    "                    'entity': context_entity_list_extend,\n",
    "                }\n",
    "                fout.write(json.dumps(turn, ensure_ascii=False) + '\\n')\n",
    "\n",
    "                context.append(resp)\n",
    "                entity_list.append(movie_turn + entity_turn)\n",
    "                movie_set |= set(movie_turn)\n",
    "\n",
    "                turn_i = turn_j"
   ]
  },
  {
   "cell_type": "code",
   "execution_count": 5,
   "metadata": {},
   "outputs": [
    {
     "name": "stderr",
     "output_type": "stream",
     "text": [
      "2278it [00:00, 5934.37it/s]\n",
      "2686it [00:00, 6771.26it/s]\n",
      "20579it [00:03, 6477.28it/s]\n"
     ]
    }
   ],
   "source": [
    "process('valid_data_dbpedia.jsonl', 'valid_data_processed.jsonl', item_set)\n",
    "process('test_data_dbpedia.jsonl', 'test_data_processed.jsonl', item_set)\n",
    "process('train_data_dbpedia.jsonl', 'train_data_processed.jsonl', item_set)"
   ]
  },
  {
   "cell_type": "code",
   "execution_count": 6,
   "metadata": {},
   "outputs": [
    {
     "name": "stdout",
     "output_type": "stream",
     "text": [
      "#item: 4168\n"
     ]
    }
   ],
   "source": [
    "with open('item_ids.json', 'w', encoding='utf-8') as f:\n",
    "    json.dump(list(item_set), f, ensure_ascii=False)\n",
    "print(f'#item: {len(item_set)}')"
   ]
  },
  {
   "cell_type": "code",
   "execution_count": null,
   "metadata": {},
   "outputs": [],
   "source": []
  }
 ],
 "metadata": {
  "kernelspec": {
   "display_name": "crs",
   "language": "python",
   "name": "python3"
  },
  "language_info": {
   "codemirror_mode": {
    "name": "ipython",
    "version": 3
   },
   "file_extension": ".py",
   "mimetype": "text/x-python",
   "name": "python",
   "nbconvert_exporter": "python",
   "pygments_lexer": "ipython3",
   "version": "3.9.19"
  }
 },
 "nbformat": 4,
 "nbformat_minor": 2
}
