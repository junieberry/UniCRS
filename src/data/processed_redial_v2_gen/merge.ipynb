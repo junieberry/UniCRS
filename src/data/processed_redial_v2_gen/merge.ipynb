{
 "cells": [
  {
   "cell_type": "code",
   "execution_count": 3,
   "metadata": {},
   "outputs": [],
   "source": [
    "gen_file_prefix = \"pretrain_output_v2\"\n",
    "dataset =\"processed_redial_v2\" "
   ]
  },
  {
   "cell_type": "code",
   "execution_count": 5,
   "metadata": {},
   "outputs": [],
   "source": [
    "import json\n",
    "for split in ['train', 'valid', 'test']:\n",
    "    raw_file_path = f\"../{dataset}/{split}_data_processed.jsonl\"\n",
    "    raw_file = open(raw_file_path, encoding='utf-8')\n",
    "    raw_data = raw_file.readlines()\n",
    "    # print(len(raw_data))\n",
    "\n",
    "    gen_file_path = f\"../../save/{dataset}/{gen_file_prefix}_{split}.jsonl\"\n",
    "    gen_file = open(gen_file_path, encoding='utf-8')\n",
    "    gen_data = gen_file.readlines()\n",
    "\n",
    "    new_file_path = f'{split}_data_merge_processed.jsonl'\n",
    "    new_file = open(new_file_path, 'w', encoding='utf-8')\n",
    "\n",
    "    cnt = 0\n",
    "    for raw in raw_data:\n",
    "        raw = json.loads(raw)\n",
    "        if len(raw['context']) == 1 and raw['context'][0] == '':\n",
    "            raw['resp'] = ''\n",
    "        else:\n",
    "            gen = json.loads(gen_data[cnt])\n",
    "            pred = gen['pred']\n",
    "            if '<movie>' in pred:\n",
    "                raw['resp'] = pred.split('System: ')[-1]\n",
    "            else:\n",
    "                raw['resp'] = ''\n",
    "                \n",
    "            cnt += 1\n",
    "        new_file.write(json.dumps(raw, ensure_ascii=False) + '\\n')\n",
    "\n",
    "    assert cnt == len(gen_data)"
   ]
  },
  {
   "cell_type": "code",
   "execution_count": null,
   "metadata": {},
   "outputs": [],
   "source": []
  }
 ],
 "metadata": {
  "kernelspec": {
   "display_name": "crs",
   "language": "python",
   "name": "python3"
  },
  "language_info": {
   "codemirror_mode": {
    "name": "ipython",
    "version": 3
   },
   "file_extension": ".py",
   "mimetype": "text/x-python",
   "name": "python",
   "nbconvert_exporter": "python",
   "pygments_lexer": "ipython3",
   "version": "3.9.19"
  }
 },
 "nbformat": 4,
 "nbformat_minor": 2
}
